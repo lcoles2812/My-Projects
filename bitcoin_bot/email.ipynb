{
 "cells": [
  {
   "cell_type": "code",
   "execution_count": 10,
   "id": "085e4fb3",
   "metadata": {},
   "outputs": [],
   "source": [
    "import smtplib \n",
    "from email.message import EmailMessage"
   ]
  },
  {
   "cell_type": "code",
   "execution_count": 29,
   "id": "9ea18c0d",
   "metadata": {},
   "outputs": [],
   "source": [
    "def email_alert(subject, body, to):\n",
    "    msg = EmailMessage()\n",
    "    msg.set_content(body)\n",
    "    msg['subject'] = subject\n",
    "    msg['to'] = to\n",
    "    \n",
    "\n",
    "    user = \"lcolesemailalertbot@gmail.com\"\n",
    "    msg['from'] = user\n",
    "    password = \"lyxzpdpvklyyjvkp\"\n",
    "\n",
    "    server = smtplib.SMTP(\"smtp.gmail.com\", 587)\n",
    "    server.starttls()\n",
    "    server.login(user, password)\n",
    "    server.send_message(msg)\n",
    "\n",
    "    server.quit()\n",
    "\n",
    "if __name__ == '__main__':\n",
    "    email_alert(\"Bitcoin\", \"Buy Now\", \"4fqxg1hz19@pomail.net\")\n",
    "\n",
    "\n"
   ]
  },
  {
   "cell_type": "code",
   "execution_count": null,
   "id": "bbb8f700",
   "metadata": {},
   "outputs": [],
   "source": [
    "import pyautogui as pt\n",
    "import time\n",
    "\n",
    "limit = input(\"Enter the limit:\")\n",
    "message = input(\"Enter the message:\")\n",
    "i = 0\n",
    "\n",
    "time.sleep(3)\n",
    "\n",
    "while i<int(limit):\n",
    "\n",
    "    pt.typewrite(message)\n",
    "    pt.press(\"enter\")\n",
    "\n",
    "    i+=1"
   ]
  },
  {
   "cell_type": "code",
   "execution_count": null,
   "id": "631eb14c",
   "metadata": {},
   "outputs": [],
   "source": [
    "from pushbullet import pushbullet\n",
    "API_KEY = \"\"\n",
    "\n",
    "pb = pushbullet(API_KEY)\n",
    "push = pb.push_note('Buy Bitcoin')"
   ]
  },
  {
   "cell_type": "code",
   "execution_count": null,
   "id": "74997321",
   "metadata": {},
   "outputs": [],
   "source": []
  }
 ],
 "metadata": {
  "kernelspec": {
   "display_name": "Python 3.9.13",
   "language": "python",
   "name": "python3"
  },
  "language_info": {
   "codemirror_mode": {
    "name": "ipython",
    "version": 3
   },
   "file_extension": ".py",
   "mimetype": "text/x-python",
   "name": "python",
   "nbconvert_exporter": "python",
   "pygments_lexer": "ipython3",
   "version": "3.9.13"
  },
  "vscode": {
   "interpreter": {
    "hash": "38cca0c38332a56087b24af0bc80247f4fced29cb4f7f437d91dc159adec9c4e"
   }
  }
 },
 "nbformat": 4,
 "nbformat_minor": 5
}
