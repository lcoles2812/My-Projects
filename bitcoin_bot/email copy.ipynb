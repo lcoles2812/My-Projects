{
 "cells": [
  {
   "cell_type": "code",
   "execution_count": 10,
   "id": "085e4fb3",
   "metadata": {},
   "outputs": [],
   "source": [
    "import smtplib \n",
    "from email.message import EmailMessage"
   ]
  },
  {
   "cell_type": "code",
   "execution_count": 24,
   "id": "9ea18c0d",
   "metadata": {},
   "outputs": [],
   "source": [
    "def email_alert(subject, body, to):\n",
    "    msg = EmailMessage()\n",
    "    msg.set_content(body)\n",
    "    msg['subject'] = subject\n",
    "    msg['to'] = to\n",
    "    \n",
    "\n",
    "    user = \"lcolesemailalertbot@gmail.com\"\n",
    "    msg['from'] = user\n",
    "    password = \"lyxzpdpvklyyjvkp\"\n",
    "\n",
    "    server = smtplib.SMTP(\"smtp.gmail.com\", 587)\n",
    "    server.starttls()\n",
    "    server.login(user, password)\n",
    "    server.send_message(msg)\n",
    "\n",
    "    server.quit()\n",
    "\n",
    "if __name__ == '__main__':\n",
    "    email_alert(\"Bitcoin\", \"Buy Now\", \"lcoles2812@gmail.com\")\n",
    "\n",
    "\n"
   ]
  },
  {
   "cell_type": "code",
   "execution_count": null,
   "id": "bbb8f700",
   "metadata": {},
   "outputs": [],
   "source": [
    " "
   ]
  }
 ],
 "metadata": {
  "kernelspec": {
   "display_name": "Python 3.9.13",
   "language": "python",
   "name": "python3"
  },
  "language_info": {
   "codemirror_mode": {
    "name": "ipython",
    "version": 3
   },
   "file_extension": ".py",
   "mimetype": "text/x-python",
   "name": "python",
   "nbconvert_exporter": "python",
   "pygments_lexer": "ipython3",
   "version": "3.9.13"
  },
  "vscode": {
   "interpreter": {
    "hash": "38cca0c38332a56087b24af0bc80247f4fced29cb4f7f437d91dc159adec9c4e"
   }
  }
 },
 "nbformat": 4,
 "nbformat_minor": 5
}
